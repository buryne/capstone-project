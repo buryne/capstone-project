{
  "cells": [
    {
      "cell_type": "code",
      "execution_count": 1,
      "metadata": {
        "colab": {
          "base_uri": "https://localhost:8080/"
        },
        "id": "4Bnps3qu-MnP",
        "outputId": "983779f3-825d-4d5c-b62d-156dd1c0c1bd"
      },
      "outputs": [
        {
          "output_type": "stream",
          "name": "stdout",
          "text": [
            "Cloning into 'capstone-project'...\n",
            "remote: Enumerating objects: 412, done.\u001b[K\n",
            "remote: Counting objects: 100% (72/72), done.\u001b[K\n",
            "remote: Compressing objects: 100% (59/59), done.\u001b[K\n",
            "remote: Total 412 (delta 26), reused 11 (delta 11), pack-reused 340\u001b[K\n",
            "Receiving objects: 100% (412/412), 1.08 MiB | 10.23 MiB/s, done.\n",
            "Resolving deltas: 100% (118/118), done.\n"
          ]
        }
      ],
      "source": [
        "!git clone https://github.com/buryne/capstone-project.git"
      ]
    },
    {
      "cell_type": "code",
      "execution_count": 2,
      "metadata": {
        "colab": {
          "base_uri": "https://localhost:8080/"
        },
        "id": "NHouIRlE-Y4j",
        "outputId": "0e882367-4f02-43f4-b653-4d16eba044c9"
      },
      "outputs": [
        {
          "output_type": "stream",
          "name": "stdout",
          "text": [
            "--2023-12-21 06:49:29--  https://raw.githubusercontent.com/buryne/capstone-project/app-dev/ML/dataset/Dataset_wisata.csv\n",
            "Resolving raw.githubusercontent.com (raw.githubusercontent.com)... 185.199.108.133, 185.199.111.133, 185.199.109.133, ...\n",
            "Connecting to raw.githubusercontent.com (raw.githubusercontent.com)|185.199.108.133|:443... connected.\n",
            "HTTP request sent, awaiting response... 200 OK\n",
            "Length: 362805 (354K) [text/plain]\n",
            "Saving to: ‘Dataset_wisata.csv’\n",
            "\n",
            "\rDataset_wisata.csv    0%[                    ]       0  --.-KB/s               \rDataset_wisata.csv  100%[===================>] 354.30K  --.-KB/s    in 0.006s  \n",
            "\n",
            "2023-12-21 06:49:29 (54.7 MB/s) - ‘Dataset_wisata.csv’ saved [362805/362805]\n",
            "\n"
          ]
        }
      ],
      "source": [
        "!wget https://raw.githubusercontent.com/buryne/capstone-project/app-dev/ML/dataset/Dataset_wisata.csv"
      ]
    },
    {
      "cell_type": "code",
      "execution_count": 3,
      "metadata": {
        "id": "CiiSAllL-gVX"
      },
      "outputs": [],
      "source": [
        "#untuk pengolahan data\n",
        "import pandas as pd\n",
        "import numpy as np\n",
        "import requests\n",
        "from io import StringIO\n",
        "\n",
        "#URL raw file di Github\n",
        "Github_url = \"https://raw.githubusercontent.com/buryne/capstone-project/app-dev/ML/dataset/Dataset_wisata.csv\"\n",
        "\n",
        "#Mendapatkan konten file CSV dari Github\n",
        "response = requests.get(Github_url)\n",
        "data = StringIO(response.text)\n",
        "\n",
        "#Load dataset\n",
        "wisata = pd.read_csv(data)"
      ]
    },
    {
      "cell_type": "code",
      "execution_count": 4,
      "metadata": {
        "colab": {
          "base_uri": "https://localhost:8080/",
          "height": 719
        },
        "id": "sfrpDfTp_tt_",
        "outputId": "63d5874f-0984-4bdf-9fc1-ad291e6b97e2"
      },
      "outputs": [
        {
          "output_type": "execute_result",
          "data": {
            "text/plain": [
              "     Place_Id                                 Place_Name  \\\n",
              "0           1                           Monumen Nasional   \n",
              "1           2                                   Kota Tua   \n",
              "2           3                              Dunia Fantasi   \n",
              "3           4          Taman Mini Indonesia Indah (TMII)   \n",
              "4           5                   Atlantis Water Adventure   \n",
              "..        ...                                        ...   \n",
              "432       433                        Museum Mpu Tantular   \n",
              "433       434                              Taman Bungkul   \n",
              "434       435           Taman Air Mancur Menari Kenjeran   \n",
              "435       436               Taman Flora Bratang Surabaya   \n",
              "436       437  Gereja Perawan Maria Tak Berdosa Surabaya   \n",
              "\n",
              "                                           Description       Category  \\\n",
              "0    Monumen Nasional atau yang populer disingkat d...         Budaya   \n",
              "1    Kota tua di Jakarta, yang juga bernama Kota Tu...         Budaya   \n",
              "2    Dunia Fantasi atau disebut juga Dufan adalah t...  Taman Hiburan   \n",
              "3    Taman Mini Indonesia Indah merupakan suatu kaw...  Taman Hiburan   \n",
              "4    Atlantis Water Adventure atau dikenal dengan A...  Taman Hiburan   \n",
              "..                                                 ...            ...   \n",
              "432  Museum Negeri Mpu Tantular adalah sebuah museu...         Budaya   \n",
              "433  Taman Bungkul adalah taman wisata kota yang te...  Taman Hiburan   \n",
              "434  Air mancur menari atau dancing fountain juga a...  Taman Hiburan   \n",
              "435  Taman Flora adalah salah satu taman kota di Su...  Taman Hiburan   \n",
              "436  Gereja Katolik Kelahiran Santa Perawan Maria m...  Tempat Ibadah   \n",
              "\n",
              "         City   Price  Rating  \\\n",
              "0     Jakarta   20000      46   \n",
              "1     Jakarta       0      46   \n",
              "2     Jakarta  270000      46   \n",
              "3     Jakarta   10000      45   \n",
              "4     Jakarta   94000      45   \n",
              "..        ...     ...     ...   \n",
              "432  Surabaya    2000      44   \n",
              "433  Surabaya       0      46   \n",
              "434  Surabaya       0      44   \n",
              "435  Surabaya       0      46   \n",
              "436  Surabaya   10000      48   \n",
              "\n",
              "                                          Coordinate       Lat        Long  \\\n",
              "0            {'lat': -6.1753924, 'lng': 106.8271528} -61753924  1068271528   \n",
              "1    {'lat': -6.137644799999999, 'lng': 106.8171245} -61376448  1068171245   \n",
              "2    {'lat': -6.125312399999999, 'lng': 106.8335377} -61253124  1068335377   \n",
              "3    {'lat': -6.302445899999999, 'lng': 106.8951559} -63024459  1068951559   \n",
              "4               {'lat': -6.12419, 'lng': 106.839134}   -612419   106839134   \n",
              "..                                               ...       ...         ...   \n",
              "432          {'lat': -7.4338593, 'lng': 112.7199058} -74338593  1127199058   \n",
              "433  {'lat': -7.291346799999999, 'lng': 112.7398218} -72913468  1127398218   \n",
              "434          {'lat': -7.2752955, 'lng': 112.7549381} -72752955  1127549381   \n",
              "435  {'lat': -7.294330299999999, 'lng': 112.7617534} -72943303  1127617534   \n",
              "436          {'lat': -7.2420758, 'lng': 112.7368158} -72420758  1127368158   \n",
              "\n",
              "     Rating_Count  \n",
              "0              18  \n",
              "1              25  \n",
              "2              19  \n",
              "3              21  \n",
              "4              24  \n",
              "..            ...  \n",
              "432            20  \n",
              "433            24  \n",
              "434            15  \n",
              "435            21  \n",
              "436            35  \n",
              "\n",
              "[437 rows x 11 columns]"
            ],
            "text/html": [
              "\n",
              "  <div id=\"df-069da766-695c-4be1-979e-54724f78958a\" class=\"colab-df-container\">\n",
              "    <div>\n",
              "<style scoped>\n",
              "    .dataframe tbody tr th:only-of-type {\n",
              "        vertical-align: middle;\n",
              "    }\n",
              "\n",
              "    .dataframe tbody tr th {\n",
              "        vertical-align: top;\n",
              "    }\n",
              "\n",
              "    .dataframe thead th {\n",
              "        text-align: right;\n",
              "    }\n",
              "</style>\n",
              "<table border=\"1\" class=\"dataframe\">\n",
              "  <thead>\n",
              "    <tr style=\"text-align: right;\">\n",
              "      <th></th>\n",
              "      <th>Place_Id</th>\n",
              "      <th>Place_Name</th>\n",
              "      <th>Description</th>\n",
              "      <th>Category</th>\n",
              "      <th>City</th>\n",
              "      <th>Price</th>\n",
              "      <th>Rating</th>\n",
              "      <th>Coordinate</th>\n",
              "      <th>Lat</th>\n",
              "      <th>Long</th>\n",
              "      <th>Rating_Count</th>\n",
              "    </tr>\n",
              "  </thead>\n",
              "  <tbody>\n",
              "    <tr>\n",
              "      <th>0</th>\n",
              "      <td>1</td>\n",
              "      <td>Monumen Nasional</td>\n",
              "      <td>Monumen Nasional atau yang populer disingkat d...</td>\n",
              "      <td>Budaya</td>\n",
              "      <td>Jakarta</td>\n",
              "      <td>20000</td>\n",
              "      <td>46</td>\n",
              "      <td>{'lat': -6.1753924, 'lng': 106.8271528}</td>\n",
              "      <td>-61753924</td>\n",
              "      <td>1068271528</td>\n",
              "      <td>18</td>\n",
              "    </tr>\n",
              "    <tr>\n",
              "      <th>1</th>\n",
              "      <td>2</td>\n",
              "      <td>Kota Tua</td>\n",
              "      <td>Kota tua di Jakarta, yang juga bernama Kota Tu...</td>\n",
              "      <td>Budaya</td>\n",
              "      <td>Jakarta</td>\n",
              "      <td>0</td>\n",
              "      <td>46</td>\n",
              "      <td>{'lat': -6.137644799999999, 'lng': 106.8171245}</td>\n",
              "      <td>-61376448</td>\n",
              "      <td>1068171245</td>\n",
              "      <td>25</td>\n",
              "    </tr>\n",
              "    <tr>\n",
              "      <th>2</th>\n",
              "      <td>3</td>\n",
              "      <td>Dunia Fantasi</td>\n",
              "      <td>Dunia Fantasi atau disebut juga Dufan adalah t...</td>\n",
              "      <td>Taman Hiburan</td>\n",
              "      <td>Jakarta</td>\n",
              "      <td>270000</td>\n",
              "      <td>46</td>\n",
              "      <td>{'lat': -6.125312399999999, 'lng': 106.8335377}</td>\n",
              "      <td>-61253124</td>\n",
              "      <td>1068335377</td>\n",
              "      <td>19</td>\n",
              "    </tr>\n",
              "    <tr>\n",
              "      <th>3</th>\n",
              "      <td>4</td>\n",
              "      <td>Taman Mini Indonesia Indah (TMII)</td>\n",
              "      <td>Taman Mini Indonesia Indah merupakan suatu kaw...</td>\n",
              "      <td>Taman Hiburan</td>\n",
              "      <td>Jakarta</td>\n",
              "      <td>10000</td>\n",
              "      <td>45</td>\n",
              "      <td>{'lat': -6.302445899999999, 'lng': 106.8951559}</td>\n",
              "      <td>-63024459</td>\n",
              "      <td>1068951559</td>\n",
              "      <td>21</td>\n",
              "    </tr>\n",
              "    <tr>\n",
              "      <th>4</th>\n",
              "      <td>5</td>\n",
              "      <td>Atlantis Water Adventure</td>\n",
              "      <td>Atlantis Water Adventure atau dikenal dengan A...</td>\n",
              "      <td>Taman Hiburan</td>\n",
              "      <td>Jakarta</td>\n",
              "      <td>94000</td>\n",
              "      <td>45</td>\n",
              "      <td>{'lat': -6.12419, 'lng': 106.839134}</td>\n",
              "      <td>-612419</td>\n",
              "      <td>106839134</td>\n",
              "      <td>24</td>\n",
              "    </tr>\n",
              "    <tr>\n",
              "      <th>...</th>\n",
              "      <td>...</td>\n",
              "      <td>...</td>\n",
              "      <td>...</td>\n",
              "      <td>...</td>\n",
              "      <td>...</td>\n",
              "      <td>...</td>\n",
              "      <td>...</td>\n",
              "      <td>...</td>\n",
              "      <td>...</td>\n",
              "      <td>...</td>\n",
              "      <td>...</td>\n",
              "    </tr>\n",
              "    <tr>\n",
              "      <th>432</th>\n",
              "      <td>433</td>\n",
              "      <td>Museum Mpu Tantular</td>\n",
              "      <td>Museum Negeri Mpu Tantular adalah sebuah museu...</td>\n",
              "      <td>Budaya</td>\n",
              "      <td>Surabaya</td>\n",
              "      <td>2000</td>\n",
              "      <td>44</td>\n",
              "      <td>{'lat': -7.4338593, 'lng': 112.7199058}</td>\n",
              "      <td>-74338593</td>\n",
              "      <td>1127199058</td>\n",
              "      <td>20</td>\n",
              "    </tr>\n",
              "    <tr>\n",
              "      <th>433</th>\n",
              "      <td>434</td>\n",
              "      <td>Taman Bungkul</td>\n",
              "      <td>Taman Bungkul adalah taman wisata kota yang te...</td>\n",
              "      <td>Taman Hiburan</td>\n",
              "      <td>Surabaya</td>\n",
              "      <td>0</td>\n",
              "      <td>46</td>\n",
              "      <td>{'lat': -7.291346799999999, 'lng': 112.7398218}</td>\n",
              "      <td>-72913468</td>\n",
              "      <td>1127398218</td>\n",
              "      <td>24</td>\n",
              "    </tr>\n",
              "    <tr>\n",
              "      <th>434</th>\n",
              "      <td>435</td>\n",
              "      <td>Taman Air Mancur Menari Kenjeran</td>\n",
              "      <td>Air mancur menari atau dancing fountain juga a...</td>\n",
              "      <td>Taman Hiburan</td>\n",
              "      <td>Surabaya</td>\n",
              "      <td>0</td>\n",
              "      <td>44</td>\n",
              "      <td>{'lat': -7.2752955, 'lng': 112.7549381}</td>\n",
              "      <td>-72752955</td>\n",
              "      <td>1127549381</td>\n",
              "      <td>15</td>\n",
              "    </tr>\n",
              "    <tr>\n",
              "      <th>435</th>\n",
              "      <td>436</td>\n",
              "      <td>Taman Flora Bratang Surabaya</td>\n",
              "      <td>Taman Flora adalah salah satu taman kota di Su...</td>\n",
              "      <td>Taman Hiburan</td>\n",
              "      <td>Surabaya</td>\n",
              "      <td>0</td>\n",
              "      <td>46</td>\n",
              "      <td>{'lat': -7.294330299999999, 'lng': 112.7617534}</td>\n",
              "      <td>-72943303</td>\n",
              "      <td>1127617534</td>\n",
              "      <td>21</td>\n",
              "    </tr>\n",
              "    <tr>\n",
              "      <th>436</th>\n",
              "      <td>437</td>\n",
              "      <td>Gereja Perawan Maria Tak Berdosa Surabaya</td>\n",
              "      <td>Gereja Katolik Kelahiran Santa Perawan Maria m...</td>\n",
              "      <td>Tempat Ibadah</td>\n",
              "      <td>Surabaya</td>\n",
              "      <td>10000</td>\n",
              "      <td>48</td>\n",
              "      <td>{'lat': -7.2420758, 'lng': 112.7368158}</td>\n",
              "      <td>-72420758</td>\n",
              "      <td>1127368158</td>\n",
              "      <td>35</td>\n",
              "    </tr>\n",
              "  </tbody>\n",
              "</table>\n",
              "<p>437 rows × 11 columns</p>\n",
              "</div>\n",
              "    <div class=\"colab-df-buttons\">\n",
              "\n",
              "  <div class=\"colab-df-container\">\n",
              "    <button class=\"colab-df-convert\" onclick=\"convertToInteractive('df-069da766-695c-4be1-979e-54724f78958a')\"\n",
              "            title=\"Convert this dataframe to an interactive table.\"\n",
              "            style=\"display:none;\">\n",
              "\n",
              "  <svg xmlns=\"http://www.w3.org/2000/svg\" height=\"24px\" viewBox=\"0 -960 960 960\">\n",
              "    <path d=\"M120-120v-720h720v720H120Zm60-500h600v-160H180v160Zm220 220h160v-160H400v160Zm0 220h160v-160H400v160ZM180-400h160v-160H180v160Zm440 0h160v-160H620v160ZM180-180h160v-160H180v160Zm440 0h160v-160H620v160Z\"/>\n",
              "  </svg>\n",
              "    </button>\n",
              "\n",
              "  <style>\n",
              "    .colab-df-container {\n",
              "      display:flex;\n",
              "      gap: 12px;\n",
              "    }\n",
              "\n",
              "    .colab-df-convert {\n",
              "      background-color: #E8F0FE;\n",
              "      border: none;\n",
              "      border-radius: 50%;\n",
              "      cursor: pointer;\n",
              "      display: none;\n",
              "      fill: #1967D2;\n",
              "      height: 32px;\n",
              "      padding: 0 0 0 0;\n",
              "      width: 32px;\n",
              "    }\n",
              "\n",
              "    .colab-df-convert:hover {\n",
              "      background-color: #E2EBFA;\n",
              "      box-shadow: 0px 1px 2px rgba(60, 64, 67, 0.3), 0px 1px 3px 1px rgba(60, 64, 67, 0.15);\n",
              "      fill: #174EA6;\n",
              "    }\n",
              "\n",
              "    .colab-df-buttons div {\n",
              "      margin-bottom: 4px;\n",
              "    }\n",
              "\n",
              "    [theme=dark] .colab-df-convert {\n",
              "      background-color: #3B4455;\n",
              "      fill: #D2E3FC;\n",
              "    }\n",
              "\n",
              "    [theme=dark] .colab-df-convert:hover {\n",
              "      background-color: #434B5C;\n",
              "      box-shadow: 0px 1px 3px 1px rgba(0, 0, 0, 0.15);\n",
              "      filter: drop-shadow(0px 1px 2px rgba(0, 0, 0, 0.3));\n",
              "      fill: #FFFFFF;\n",
              "    }\n",
              "  </style>\n",
              "\n",
              "    <script>\n",
              "      const buttonEl =\n",
              "        document.querySelector('#df-069da766-695c-4be1-979e-54724f78958a button.colab-df-convert');\n",
              "      buttonEl.style.display =\n",
              "        google.colab.kernel.accessAllowed ? 'block' : 'none';\n",
              "\n",
              "      async function convertToInteractive(key) {\n",
              "        const element = document.querySelector('#df-069da766-695c-4be1-979e-54724f78958a');\n",
              "        const dataTable =\n",
              "          await google.colab.kernel.invokeFunction('convertToInteractive',\n",
              "                                                    [key], {});\n",
              "        if (!dataTable) return;\n",
              "\n",
              "        const docLinkHtml = 'Like what you see? Visit the ' +\n",
              "          '<a target=\"_blank\" href=https://colab.research.google.com/notebooks/data_table.ipynb>data table notebook</a>'\n",
              "          + ' to learn more about interactive tables.';\n",
              "        element.innerHTML = '';\n",
              "        dataTable['output_type'] = 'display_data';\n",
              "        await google.colab.output.renderOutput(dataTable, element);\n",
              "        const docLink = document.createElement('div');\n",
              "        docLink.innerHTML = docLinkHtml;\n",
              "        element.appendChild(docLink);\n",
              "      }\n",
              "    </script>\n",
              "  </div>\n",
              "\n",
              "\n",
              "<div id=\"df-a0fd9ab1-940a-45a5-92eb-be774900ada3\">\n",
              "  <button class=\"colab-df-quickchart\" onclick=\"quickchart('df-a0fd9ab1-940a-45a5-92eb-be774900ada3')\"\n",
              "            title=\"Suggest charts\"\n",
              "            style=\"display:none;\">\n",
              "\n",
              "<svg xmlns=\"http://www.w3.org/2000/svg\" height=\"24px\"viewBox=\"0 0 24 24\"\n",
              "     width=\"24px\">\n",
              "    <g>\n",
              "        <path d=\"M19 3H5c-1.1 0-2 .9-2 2v14c0 1.1.9 2 2 2h14c1.1 0 2-.9 2-2V5c0-1.1-.9-2-2-2zM9 17H7v-7h2v7zm4 0h-2V7h2v10zm4 0h-2v-4h2v4z\"/>\n",
              "    </g>\n",
              "</svg>\n",
              "  </button>\n",
              "\n",
              "<style>\n",
              "  .colab-df-quickchart {\n",
              "      --bg-color: #E8F0FE;\n",
              "      --fill-color: #1967D2;\n",
              "      --hover-bg-color: #E2EBFA;\n",
              "      --hover-fill-color: #174EA6;\n",
              "      --disabled-fill-color: #AAA;\n",
              "      --disabled-bg-color: #DDD;\n",
              "  }\n",
              "\n",
              "  [theme=dark] .colab-df-quickchart {\n",
              "      --bg-color: #3B4455;\n",
              "      --fill-color: #D2E3FC;\n",
              "      --hover-bg-color: #434B5C;\n",
              "      --hover-fill-color: #FFFFFF;\n",
              "      --disabled-bg-color: #3B4455;\n",
              "      --disabled-fill-color: #666;\n",
              "  }\n",
              "\n",
              "  .colab-df-quickchart {\n",
              "    background-color: var(--bg-color);\n",
              "    border: none;\n",
              "    border-radius: 50%;\n",
              "    cursor: pointer;\n",
              "    display: none;\n",
              "    fill: var(--fill-color);\n",
              "    height: 32px;\n",
              "    padding: 0;\n",
              "    width: 32px;\n",
              "  }\n",
              "\n",
              "  .colab-df-quickchart:hover {\n",
              "    background-color: var(--hover-bg-color);\n",
              "    box-shadow: 0 1px 2px rgba(60, 64, 67, 0.3), 0 1px 3px 1px rgba(60, 64, 67, 0.15);\n",
              "    fill: var(--button-hover-fill-color);\n",
              "  }\n",
              "\n",
              "  .colab-df-quickchart-complete:disabled,\n",
              "  .colab-df-quickchart-complete:disabled:hover {\n",
              "    background-color: var(--disabled-bg-color);\n",
              "    fill: var(--disabled-fill-color);\n",
              "    box-shadow: none;\n",
              "  }\n",
              "\n",
              "  .colab-df-spinner {\n",
              "    border: 2px solid var(--fill-color);\n",
              "    border-color: transparent;\n",
              "    border-bottom-color: var(--fill-color);\n",
              "    animation:\n",
              "      spin 1s steps(1) infinite;\n",
              "  }\n",
              "\n",
              "  @keyframes spin {\n",
              "    0% {\n",
              "      border-color: transparent;\n",
              "      border-bottom-color: var(--fill-color);\n",
              "      border-left-color: var(--fill-color);\n",
              "    }\n",
              "    20% {\n",
              "      border-color: transparent;\n",
              "      border-left-color: var(--fill-color);\n",
              "      border-top-color: var(--fill-color);\n",
              "    }\n",
              "    30% {\n",
              "      border-color: transparent;\n",
              "      border-left-color: var(--fill-color);\n",
              "      border-top-color: var(--fill-color);\n",
              "      border-right-color: var(--fill-color);\n",
              "    }\n",
              "    40% {\n",
              "      border-color: transparent;\n",
              "      border-right-color: var(--fill-color);\n",
              "      border-top-color: var(--fill-color);\n",
              "    }\n",
              "    60% {\n",
              "      border-color: transparent;\n",
              "      border-right-color: var(--fill-color);\n",
              "    }\n",
              "    80% {\n",
              "      border-color: transparent;\n",
              "      border-right-color: var(--fill-color);\n",
              "      border-bottom-color: var(--fill-color);\n",
              "    }\n",
              "    90% {\n",
              "      border-color: transparent;\n",
              "      border-bottom-color: var(--fill-color);\n",
              "    }\n",
              "  }\n",
              "</style>\n",
              "\n",
              "  <script>\n",
              "    async function quickchart(key) {\n",
              "      const quickchartButtonEl =\n",
              "        document.querySelector('#' + key + ' button');\n",
              "      quickchartButtonEl.disabled = true;  // To prevent multiple clicks.\n",
              "      quickchartButtonEl.classList.add('colab-df-spinner');\n",
              "      try {\n",
              "        const charts = await google.colab.kernel.invokeFunction(\n",
              "            'suggestCharts', [key], {});\n",
              "      } catch (error) {\n",
              "        console.error('Error during call to suggestCharts:', error);\n",
              "      }\n",
              "      quickchartButtonEl.classList.remove('colab-df-spinner');\n",
              "      quickchartButtonEl.classList.add('colab-df-quickchart-complete');\n",
              "    }\n",
              "    (() => {\n",
              "      let quickchartButtonEl =\n",
              "        document.querySelector('#df-a0fd9ab1-940a-45a5-92eb-be774900ada3 button');\n",
              "      quickchartButtonEl.style.display =\n",
              "        google.colab.kernel.accessAllowed ? 'block' : 'none';\n",
              "    })();\n",
              "  </script>\n",
              "</div>\n",
              "    </div>\n",
              "  </div>\n"
            ]
          },
          "metadata": {},
          "execution_count": 4
        }
      ],
      "source": [
        "#Melihat gambaran data wisata\n",
        "wisata"
      ]
    },
    {
      "cell_type": "code",
      "execution_count": 5,
      "metadata": {
        "colab": {
          "base_uri": "https://localhost:8080/"
        },
        "id": "_Thb6gExABy2",
        "outputId": "59d05415-a3e7-4221-ca95-9034cdc5b82d"
      },
      "outputs": [
        {
          "output_type": "execute_result",
          "data": {
            "text/plain": [
              "Index(['Place_Id', 'Place_Name', 'Description', 'Category', 'City', 'Price',\n",
              "       'Rating', 'Coordinate', 'Lat', 'Long', 'Rating_Count'],\n",
              "      dtype='object')"
            ]
          },
          "metadata": {},
          "execution_count": 5
        }
      ],
      "source": [
        "wisata.columns"
      ]
    },
    {
      "cell_type": "code",
      "execution_count": 6,
      "metadata": {
        "colab": {
          "base_uri": "https://localhost:8080/"
        },
        "id": "-B4vV2mxAHmt",
        "outputId": "28de4aaf-7af9-4cd7-e767-a9bc7f073ea0"
      },
      "outputs": [
        {
          "output_type": "stream",
          "name": "stdout",
          "text": [
            "<class 'pandas.core.frame.DataFrame'>\n",
            "RangeIndex: 437 entries, 0 to 436\n",
            "Data columns (total 11 columns):\n",
            " #   Column        Non-Null Count  Dtype \n",
            "---  ------        --------------  ----- \n",
            " 0   Place_Id      437 non-null    int64 \n",
            " 1   Place_Name    437 non-null    object\n",
            " 2   Description   437 non-null    object\n",
            " 3   Category      437 non-null    object\n",
            " 4   City          437 non-null    object\n",
            " 5   Price         437 non-null    int64 \n",
            " 6   Rating        437 non-null    int64 \n",
            " 7   Coordinate    437 non-null    object\n",
            " 8   Lat           437 non-null    int64 \n",
            " 9   Long          437 non-null    int64 \n",
            " 10  Rating_Count  437 non-null    int64 \n",
            "dtypes: int64(6), object(5)\n",
            "memory usage: 37.7+ KB\n"
          ]
        }
      ],
      "source": [
        "wisata.info()"
      ]
    },
    {
      "cell_type": "code",
      "execution_count": 7,
      "metadata": {
        "colab": {
          "base_uri": "https://localhost:8080/"
        },
        "id": "-lWmcsQuAww7",
        "outputId": "764894db-eac8-4545-a4cf-a23b7c072aeb"
      },
      "outputs": [
        {
          "output_type": "execute_result",
          "data": {
            "text/plain": [
              "Place_Id        0\n",
              "Place_Name      0\n",
              "Description     0\n",
              "Category        0\n",
              "City            0\n",
              "Price           0\n",
              "Rating          0\n",
              "Coordinate      0\n",
              "Lat             0\n",
              "Long            0\n",
              "Rating_Count    0\n",
              "dtype: int64"
            ]
          },
          "metadata": {},
          "execution_count": 7
        }
      ],
      "source": [
        "#menampilkan missing value pada dataset wisata\n",
        "wisata.isnull().sum()"
      ]
    },
    {
      "cell_type": "code",
      "execution_count": 8,
      "metadata": {
        "id": "EaXpM1moA8tf"
      },
      "outputs": [],
      "source": [
        "import os\n",
        "import tensorflow as tf\n",
        "from tensorflow import keras\n",
        "from sklearn.model_selection import train_test_split"
      ]
    },
    {
      "cell_type": "code",
      "execution_count": 9,
      "metadata": {
        "colab": {
          "base_uri": "https://localhost:8080/"
        },
        "id": "eBs2_kspCS8S",
        "outputId": "35b1eeaf-c539-43ee-8c8b-ef33907f7fa4"
      },
      "outputs": [
        {
          "output_type": "execute_result",
          "data": {
            "text/plain": [
              "0    Jakarta\n",
              "1    Jakarta\n",
              "2    Jakarta\n",
              "3    Jakarta\n",
              "4    Jakarta\n",
              "Name: City, dtype: object"
            ]
          },
          "metadata": {},
          "execution_count": 9
        }
      ],
      "source": [
        "wisata['City'].head()"
      ]
    },
    {
      "cell_type": "code",
      "execution_count": 10,
      "metadata": {
        "colab": {
          "base_uri": "https://localhost:8080/"
        },
        "id": "iWC52gh4CqPS",
        "outputId": "dd180914-575f-41e4-e7f4-d47b0c1e35cb"
      },
      "outputs": [
        {
          "output_type": "execute_result",
          "data": {
            "text/plain": [
              "(437, 706)"
            ]
          },
          "metadata": {},
          "execution_count": 10
        }
      ],
      "source": [
        "import pandas as pd\n",
        "from sklearn.feature_extraction.text import TfidfVectorizer\n",
        "from sklearn.metrics.pairwise import linear_kernel\n",
        "\n",
        "#Replace NaN with an empty string\n",
        "wisata['Place_Name'] = wisata['Place_Name'].fillna('')\n",
        "\n",
        "# Concatenate 'Place_Name', 'City', 'Category', and 'Rating' into a single text column\n",
        "wisata['Combined_Info'] = wisata['Place_Name'] + ' ' + wisata['City']\n",
        "\n",
        "# Menggunakan TfIdfVectorizer untuk mengonversi deskripsi menjadi vektor fitur\n",
        "tfidf_vectorizer = TfidfVectorizer(stop_words='english')\n",
        "tfidf_matrix = tfidf_vectorizer.fit_transform(wisata['Combined_Info'])\n",
        "\n",
        "# Menghitung skor kesamaan kosinus antar tempat wisata\n",
        "cosine_similarities = linear_kernel(tfidf_matrix, tfidf_matrix)\n",
        "\n",
        "# Construct the required TF-IDF matrix by fitting and transforming the data\n",
        "tfidf = TfidfVectorizer(stop_words='english')\n",
        "tfidf_matrix = tfidf.fit_transform(wisata['Combined_Info'])\n",
        "\n",
        "#Output the shape of tfidf_matrix\n",
        "tfidf_matrix.shape"
      ]
    },
    {
      "cell_type": "code",
      "execution_count": 11,
      "metadata": {
        "id": "_o4EXFciDoax"
      },
      "outputs": [],
      "source": [
        "#Construct a reverse map of indices and Place_Name\n",
        "indices = pd.Series(wisata.index, index=wisata['Place_Name']).drop_duplicates()"
      ]
    },
    {
      "cell_type": "code",
      "source": [
        "def get_recommendations(city='City', num_recommendations=10):\n",
        "    # Filter data for the specified city\n",
        "    city_data = wisata[wisata['City'] == city]\n",
        "\n",
        "    # If no places found in the specified city, return an empty DataFrame\n",
        "    if city_data.empty:\n",
        "        return pd.DataFrame(columns=['Place_Name', 'City'])\n",
        "\n",
        "    # Randomly select a tourist place from the specified city\n",
        "    random_place_index = np.random.choice(city_data.index)\n",
        "    random_place_features = city_data.loc[random_place_index, 'Combined_Info']\n",
        "\n",
        "    # Transform the random place features using the TF-IDF vectorizer\n",
        "    random_place_tfidf = tfidf_vectorizer.transform([random_place_features])\n",
        "\n",
        "    # Calculate cosine similarity between the random place and all tourist places in the same city\n",
        "    cosine_similarities = linear_kernel(random_place_tfidf, tfidf_matrix[city_data.index, :]).flatten()\n",
        "\n",
        "    # Get indices of similar tourist places based on cosine similarity scores\n",
        "    similar_places_indices = cosine_similarities.argsort()[:-num_recommendations-1:-1]\n",
        "\n",
        "    # Return the most similar destinations (Place_Name and City)\n",
        "    return city_data[['Place_Name', 'City']].iloc[similar_places_indices]"
      ],
      "metadata": {
        "id": "QIhBXF8dpfCN"
      },
      "execution_count": 12,
      "outputs": []
    },
    {
      "cell_type": "code",
      "execution_count": 111,
      "metadata": {
        "colab": {
          "base_uri": "https://localhost:8080/"
        },
        "id": "ekQDyHBpDkzS",
        "outputId": "5a2a67d3-a4de-4f53-f4da-4ff5fd4f2ab3"
      },
      "outputs": [
        {
          "output_type": "stream",
          "name": "stdout",
          "text": [
            "Epoch 1/10\n",
            "25/25 [==============================] - 1s 15ms/step - loss: 0.5839 - accuracy: 0.7325 - val_loss: 0.5267 - val_accuracy: 0.7700\n",
            "Epoch 2/10\n",
            "25/25 [==============================] - 0s 5ms/step - loss: 0.4546 - accuracy: 0.8200 - val_loss: 0.4603 - val_accuracy: 0.8000\n",
            "Epoch 3/10\n",
            "18/25 [====================>.........] - ETA: 0s - loss: 0.3732 - accuracy: 0.8681\n",
            "Accuracy is higher than 83%, canceling training!\n",
            "25/25 [==============================] - 0s 5ms/step - loss: 0.3869 - accuracy: 0.8600 - val_loss: 0.4179 - val_accuracy: 0.8300\n",
            "7/7 [==============================] - 0s 4ms/step - loss: 0.4179 - accuracy: 0.8300\n",
            "Validation Accuracy: 0.8299999833106995\n",
            "Model Loss: 0.38685402274131775\n",
            "Model Accuracy: 0.8600000143051147\n"
          ]
        }
      ],
      "source": [
        "import joblib\n",
        "from tensorflow.keras.models import Sequential\n",
        "from tensorflow.keras.layers import Dense, Embedding, Flatten\n",
        "from tensorflow.keras.models import Sequential\n",
        "from tensorflow.keras.layers import Dense, Dropout\n",
        "from tensorflow.keras.optimizers import Adam\n",
        "from tensorflow.keras.callbacks import EarlyStopping\n",
        "from sklearn.model_selection import train_test_split\n",
        "from sklearn.preprocessing import StandardScaler\n",
        "from sklearn.datasets import make_classification\n",
        "\n",
        "# Custom Callback\n",
        "class MyCallback(tf.keras.callbacks.Callback):\n",
        "    def on_epoch_end(self, epoch, logs={}):\n",
        "        # Check the accuracy\n",
        "        if logs.get('accuracy') is not None and logs.get('accuracy') > 0.83:\n",
        "            # Stop if threshold is met\n",
        "            print(\"\\nAccuracy is higher than 83%, canceling training!\")\n",
        "            self.model.stop_training = True\n",
        "\n",
        "callbacks = MyCallback()\n",
        "\n",
        "def create_model(input_dim):\n",
        "    model = Sequential()\n",
        "    model.add(Dense(64, input_dim=input_dim, activation='relu'))\n",
        "    model.add(Dense(32, activation='relu'))\n",
        "    model.add(Dense(1, activation='sigmoid'))\n",
        "    return model\n",
        "\n",
        "def train_model(model, X_train_scaled, y_train, X_val_scaled, y_val):\n",
        "    optimizer = Adam(learning_rate=0.001)\n",
        "    model.compile(optimizer=optimizer, loss='binary_crossentropy', metrics=['accuracy'])\n",
        "\n",
        "    # Train the model\n",
        "    history = model.fit(X_train_scaled, y_train, epochs=10, batch_size=32, validation_data=(X_val_scaled, y_val), callbacks=[callbacks])\n",
        "\n",
        "    # Evaluasi model di atas data validasi terpisah\n",
        "    _, val_accuracy = model.evaluate(X_val_scaled, y_val)\n",
        "    print(f'Validation Accuracy: {val_accuracy}')\n",
        "\n",
        "    # Print model loss and accuracy\n",
        "    print(\"Model Loss:\", history.history['loss'][-1])\n",
        "    print(\"Model Accuracy:\", history.history['accuracy'][-1])\n",
        "\n",
        "    return model\n",
        "\n",
        "def save_model(model, save_path='Recommendation_Model_Fix.h5'):\n",
        "    model.save(save_path)\n",
        "    print(f'Model saved to {save_path}')\n",
        "\n",
        "# Penambahan data pelatihan\n",
        "X, y = make_classification(n_samples=1000, n_features=20, n_classes=2, random_state=42)\n",
        "X_train, X_val, y_train, y_val = train_test_split(X, y, test_size=0.2, random_state=42)\n",
        "\n",
        "# Standardisasi fitur untuk meningkatkan konvergensi model\n",
        "scaler = StandardScaler()\n",
        "X_train_scaled = scaler.fit_transform(X_train)\n",
        "X_val_scaled = scaler.transform(X_val)\n",
        "\n",
        "# Create model\n",
        "model = create_model(X_train_scaled.shape[1])\n",
        "\n",
        "# Train model\n",
        "trained_model = train_model(model, X_train_scaled, y_train, X_val_scaled, y_val)"
      ]
    },
    {
      "cell_type": "code",
      "execution_count": null,
      "metadata": {
        "colab": {
          "base_uri": "https://localhost:8080/",
          "height": 89
        },
        "id": "F0pdelo9DqEv",
        "outputId": "31430f0c-fa66-4354-809d-9bb142e878c5"
      },
      "outputs": [
        {
          "output_type": "stream",
          "name": "stdout",
          "text": [
            "Model saved to Recommendation_Model_Fix.h5\n"
          ]
        },
        {
          "output_type": "stream",
          "name": "stderr",
          "text": [
            "/usr/local/lib/python3.10/dist-packages/keras/src/engine/training.py:3103: UserWarning: You are saving your model as an HDF5 file via `model.save()`. This file format is considered legacy. We recommend using instead the native Keras format, e.g. `model.save('my_model.keras')`.\n",
            "  saving_api.save_model(\n"
          ]
        },
        {
          "output_type": "display_data",
          "data": {
            "text/plain": [
              "<IPython.core.display.Javascript object>"
            ],
            "application/javascript": [
              "\n",
              "    async function download(id, filename, size) {\n",
              "      if (!google.colab.kernel.accessAllowed) {\n",
              "        return;\n",
              "      }\n",
              "      const div = document.createElement('div');\n",
              "      const label = document.createElement('label');\n",
              "      label.textContent = `Downloading \"${filename}\": `;\n",
              "      div.appendChild(label);\n",
              "      const progress = document.createElement('progress');\n",
              "      progress.max = size;\n",
              "      div.appendChild(progress);\n",
              "      document.body.appendChild(div);\n",
              "\n",
              "      const buffers = [];\n",
              "      let downloaded = 0;\n",
              "\n",
              "      const channel = await google.colab.kernel.comms.open(id);\n",
              "      // Send a message to notify the kernel that we're ready.\n",
              "      channel.send({})\n",
              "\n",
              "      for await (const message of channel.messages) {\n",
              "        // Send a message to notify the kernel that we're ready.\n",
              "        channel.send({})\n",
              "        if (message.buffers) {\n",
              "          for (const buffer of message.buffers) {\n",
              "            buffers.push(buffer);\n",
              "            downloaded += buffer.byteLength;\n",
              "            progress.value = downloaded;\n",
              "          }\n",
              "        }\n",
              "      }\n",
              "      const blob = new Blob(buffers, {type: 'application/binary'});\n",
              "      const a = document.createElement('a');\n",
              "      a.href = window.URL.createObjectURL(blob);\n",
              "      a.download = filename;\n",
              "      div.appendChild(a);\n",
              "      a.click();\n",
              "      div.remove();\n",
              "    }\n",
              "  "
            ]
          },
          "metadata": {}
        },
        {
          "output_type": "display_data",
          "data": {
            "text/plain": [
              "<IPython.core.display.Javascript object>"
            ],
            "application/javascript": [
              "download(\"download_54703300-1ece-4795-b080-4c165ffd272d\", \"Recommendation_Model_Fix.h5\", 72344)"
            ]
          },
          "metadata": {}
        }
      ],
      "source": [
        "# Save the model h5\n",
        "save_model(trained_model)\n",
        "\n",
        "# Download the model\n",
        "from google.colab import files\n",
        "files.download(\"Recommendation_Model_Fix.h5\")"
      ]
    }
  ],
  "metadata": {
    "colab": {
      "provenance": []
    },
    "kernelspec": {
      "display_name": "Python 3",
      "name": "python3"
    },
    "language_info": {
      "name": "python"
    }
  },
  "nbformat": 4,
  "nbformat_minor": 0
}