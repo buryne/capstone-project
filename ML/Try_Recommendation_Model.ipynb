{
  "nbformat": 4,
  "nbformat_minor": 0,
  "metadata": {
    "colab": {
      "provenance": []
    },
    "kernelspec": {
      "name": "python3",
      "display_name": "Python 3"
    },
    "language_info": {
      "name": "python"
    }
  },
  "cells": [
    {
      "cell_type": "code",
      "source": [
        "!git clone https://github.com/buryne/capstone-project.git"
      ],
      "metadata": {
        "colab": {
          "base_uri": "https://localhost:8080/"
        },
        "id": "ooX6ITgELykg",
        "outputId": "52821588-2297-4268-a113-e4a29456fbb4"
      },
      "execution_count": null,
      "outputs": [
        {
          "output_type": "stream",
          "name": "stdout",
          "text": [
            "Cloning into 'capstone-project'...\n",
            "remote: Enumerating objects: 412, done.\u001b[K\n",
            "remote: Counting objects: 100% (72/72), done.\u001b[K\n",
            "remote: Compressing objects: 100% (59/59), done.\u001b[K\n",
            "remote: Total 412 (delta 26), reused 11 (delta 11), pack-reused 340\u001b[K\n",
            "Receiving objects: 100% (412/412), 1.08 MiB | 9.21 MiB/s, done.\n",
            "Resolving deltas: 100% (118/118), done.\n"
          ]
        }
      ]
    },
    {
      "cell_type": "code",
      "source": [
        "!wget https://raw.githubusercontent.com/buryne/capstone-project/app-dev/ML/Recommendation_Model_FIXED.h5"
      ],
      "metadata": {
        "colab": {
          "base_uri": "https://localhost:8080/"
        },
        "id": "hEvei7ApL3A9",
        "outputId": "76b4c1c9-03c6-4052-941b-661fce727476"
      },
      "execution_count": 43,
      "outputs": [
        {
          "output_type": "stream",
          "name": "stdout",
          "text": [
            "--2023-12-21 08:05:06--  https://raw.githubusercontent.com/buryne/capstone-project/app-dev/ML/Recommendation_Model_FIXED.h5\n",
            "Resolving raw.githubusercontent.com (raw.githubusercontent.com)... 185.199.108.133, 185.199.109.133, 185.199.110.133, ...\n",
            "Connecting to raw.githubusercontent.com (raw.githubusercontent.com)|185.199.108.133|:443... connected.\n",
            "HTTP request sent, awaiting response... 200 OK\n",
            "Length: 72344 (71K) [application/octet-stream]\n",
            "Saving to: ‘Recommendation_Model_FIXED.h5.2’\n",
            "\n",
            "\r          Recommend   0%[                    ]       0  --.-KB/s               \rRecommendation_Mode 100%[===================>]  70.65K  --.-KB/s    in 0.01s   \n",
            "\n",
            "2023-12-21 08:05:06 (5.86 MB/s) - ‘Recommendation_Model_FIXED.h5.2’ saved [72344/72344]\n",
            "\n"
          ]
        }
      ]
    },
    {
      "cell_type": "code",
      "execution_count": 44,
      "metadata": {
        "id": "wDAuyM9fLMme"
      },
      "outputs": [],
      "source": [
        "import numpy as np\n",
        "import pandas as pd\n",
        "import matplotlib.pyplot as plt\n",
        "import os\n",
        "import warnings\n",
        "import tensorflow as tf\n",
        "from sklearn.feature_extraction.text import TfidfVectorizer\n",
        "from sklearn.metrics.pairwise import linear_kernel\n",
        "from keras.models import Model\n",
        "from keras.models import load_model\n",
        "import requests\n",
        "from io import StringIO\n",
        "\n",
        "\n",
        "#URL raw file di Github\n",
        "Github_url_1 = \"https://raw.githubusercontent.com/buryne/capstone-project/app-dev/ML/dataset/Dataset_wisata.csv\"\n",
        "\n",
        "#Mendapatkan konten file CSV dari Github\n",
        "response = requests.get(Github_url_1)\n",
        "data = StringIO(response.text)\n",
        "\n",
        "#Load dataset\n",
        "wisata = pd.read_csv(data)\n",
        "#URL raw file di Github\n",
        "github_url_2 = \"https://raw.githubusercontent.com/buryne/capstone-project/app-dev/ML/Recommendation_Model_FIXED.h5\""
      ]
    },
    {
      "cell_type": "code",
      "source": [
        "# load model\n",
        "model = load_model('Recommendation_Model_FIXED.h5')\n",
        "# summarize model.\n",
        "model.summary()"
      ],
      "metadata": {
        "colab": {
          "base_uri": "https://localhost:8080/"
        },
        "id": "ORnMW9GLMpJP",
        "outputId": "f665e7a6-324b-4aec-b6fd-adb728160f82"
      },
      "execution_count": 45,
      "outputs": [
        {
          "output_type": "stream",
          "name": "stdout",
          "text": [
            "Model: \"sequential_8\"\n",
            "_________________________________________________________________\n",
            " Layer (type)                Output Shape              Param #   \n",
            "=================================================================\n",
            " dense_24 (Dense)            (None, 64)                1344      \n",
            "                                                                 \n",
            " dense_25 (Dense)            (None, 32)                2080      \n",
            "                                                                 \n",
            " dense_26 (Dense)            (None, 1)                 33        \n",
            "                                                                 \n",
            "=================================================================\n",
            "Total params: 3457 (13.50 KB)\n",
            "Trainable params: 3457 (13.50 KB)\n",
            "Non-trainable params: 0 (0.00 Byte)\n",
            "_________________________________________________________________\n"
          ]
        }
      ]
    },
    {
      "cell_type": "code",
      "source": [
        "model = load_model('Recommendation_Model_FIXED.h5')"
      ],
      "metadata": {
        "id": "k1pVuj1x64w3"
      },
      "execution_count": 46,
      "outputs": []
    },
    {
      "cell_type": "code",
      "source": [
        "place_name = range(1,20)"
      ],
      "metadata": {
        "id": "greqI6LmM43N"
      },
      "execution_count": 47,
      "outputs": []
    },
    {
      "cell_type": "code",
      "source": [
        "data_wisata = np.array(list(set(place_name)))"
      ],
      "metadata": {
        "id": "vtm4ltzuNDxI"
      },
      "execution_count": 48,
      "outputs": []
    },
    {
      "cell_type": "code",
      "source": [
        "city_name = \"Jakarta\""
      ],
      "metadata": {
        "id": "P6pFVJcfNH9K"
      },
      "execution_count": 49,
      "outputs": []
    },
    {
      "cell_type": "code",
      "source": [
        "city = np.array([city_name for i in range(len(data_wisata))])"
      ],
      "metadata": {
        "id": "vHPlsUmqNMAR"
      },
      "execution_count": 50,
      "outputs": []
    },
    {
      "cell_type": "code",
      "source": [
        "city_label_mapping = {'Jakarta': 0, 'Yogyakarta': 1, 'Bandung': 2, 'Semarang': 3, 'Surabaya': 4}"
      ],
      "metadata": {
        "id": "FEVHaCeENRUR"
      },
      "execution_count": 51,
      "outputs": []
    },
    {
      "cell_type": "code",
      "source": [
        "city_encoded = np.array([city_label_mapping[city_name] for city_name in city])"
      ],
      "metadata": {
        "id": "9b-Z3LoQOpmj"
      },
      "execution_count": 52,
      "outputs": []
    },
    {
      "cell_type": "code",
      "source": [
        "input_data = np.column_stack((city_encoded, data_wisata))"
      ],
      "metadata": {
        "id": "b7GP0G3gvVv6"
      },
      "execution_count": 53,
      "outputs": []
    },
    {
      "cell_type": "code",
      "source": [
        "import pandas as pd\n",
        "from sklearn.feature_extraction.text import TfidfVectorizer\n",
        "from sklearn.metrics.pairwise import linear_kernel\n",
        "\n",
        "#Replace NaN with an empty string\n",
        "wisata['Place_Name'] = wisata['Place_Name'].fillna('')\n",
        "\n",
        "# Concatenate 'Place_Name', 'City', 'Category', and 'Rating' into a single text column\n",
        "wisata['Combined_Info'] = wisata['Place_Name'] + ' ' + wisata['City']\n",
        "\n",
        "# Menggunakan TfIdfVectorizer untuk mengonversi deskripsi menjadi vektor fitur\n",
        "tfidf_vectorizer = TfidfVectorizer(stop_words='english')\n",
        "tfidf_matrix = tfidf_vectorizer.fit_transform(wisata['Combined_Info'])\n",
        "\n",
        "# Menghitung skor kesamaan kosinus antar tempat wisata\n",
        "cosine_similarities = linear_kernel(tfidf_matrix, tfidf_matrix)\n",
        "\n",
        "# Construct the required TF-IDF matrix by fitting and transforming the data\n",
        "tfidf = TfidfVectorizer(stop_words='english')\n",
        "tfidf_matrix = tfidf.fit_transform(wisata['Combined_Info'])\n",
        "\n",
        "#Output the shape of tfidf_matrix\n",
        "tfidf_matrix.shape"
      ],
      "metadata": {
        "id": "gMYsOhry8n-c",
        "outputId": "a1ce7a09-fbd7-4e20-fd02-ecbcf015555f",
        "colab": {
          "base_uri": "https://localhost:8080/"
        }
      },
      "execution_count": 54,
      "outputs": [
        {
          "output_type": "execute_result",
          "data": {
            "text/plain": [
              "(437, 706)"
            ]
          },
          "metadata": {},
          "execution_count": 54
        }
      ]
    },
    {
      "cell_type": "code",
      "source": [
        "# Mendapatkan rekomendasi menggunakan model yang telah diload\n",
        "def get_recommendations_with_load_model(model, city='City', num_recommendations=10):\n",
        "    # Filter data for the specified city\n",
        "    city_data = wisata[wisata['City'] == city]\n",
        "\n",
        "    # If no places found in the specified city, return an empty DataFrame\n",
        "    if city_data.empty:\n",
        "        return pd.DataFrame(columns=['Place_Name', 'City'])\n",
        "\n",
        "    # Pilih acak tempat wisata dari kota yang ditentukan\n",
        "    random_place_index = np.random.choice(city_data.index)\n",
        "    random_place_features = city_data.loc[random_place_index, 'Place_Name']\n",
        "\n",
        "    # Transform the random place features using the TF-IDF vectorizer\n",
        "    random_place_tfidf = tfidf_vectorizer.transform([random_place_features])\n",
        "\n",
        "    # Calculate cosine similarity between the random place and all tourist places in the same city\n",
        "    cosine_similarities = linear_kernel(random_place_tfidf, tfidf_matrix[city_data.index, :]).flatten()\n",
        "\n",
        "    # Get indices of similar tourist places based on cosine similarity scores\n",
        "    similar_places_indices = cosine_similarities.argsort()[:-num_recommendations-1:-1]\n",
        "\n",
        "    # Return the most similar destinations (Place_Name and City)\n",
        "    return city_data[['Place_Id', 'Place_Name','Description', 'Category', 'City', 'Price', 'Rating']].iloc[similar_places_indices]\n",
        "\n",
        "# Mendapatkan rekomendasi dengan menggunakan model yang telah diload\n",
        "recommendations_by_city_loaded_model = get_recommendations_with_load_model(load_model, city_name)\n",
        "print(f\"Top {len(recommendations_by_city_loaded_model)} Rekomendasi wisata: \")\n",
        "print(recommendations_by_city_loaded_model)"
      ],
      "metadata": {
        "colab": {
          "base_uri": "https://localhost:8080/"
        },
        "id": "xYIIhBGcvj4Z",
        "outputId": "71f1ebcf-1640-437f-acbf-daa67cdee9ac"
      },
      "execution_count": 56,
      "outputs": [
        {
          "output_type": "stream",
          "name": "stdout",
          "text": [
            "Top 10 Rekomendasi wisata: \n",
            "    Place_Id                   Place_Name  \\\n",
            "40        41        Museum Bahari Jakarta   \n",
            "23        24              Museum Nasional   \n",
            "72        73              Museum Perangko   \n",
            "16        17            Museum Fatahillah   \n",
            "20        21                Museum Wayang   \n",
            "59        60               Museum Tekstil   \n",
            "19        20        Museum Taman Prasasti   \n",
            "17        18        Museum Bank Indonesia   \n",
            "73        74          Museum Tengah Kebun   \n",
            "62        63  Museum Kebangkitan Nasional   \n",
            "\n",
            "                                          Description Category     City  \\\n",
            "40  Museum Bahari adalah museum yang menyimpan kol...   Budaya  Jakarta   \n",
            "23  Museum Nasional Republik Indonesia atau Museum...   Budaya  Jakarta   \n",
            "72  Museum perangko dibangun dengan bentuk banguna...   Budaya  Jakarta   \n",
            "16  Museum Fatahillah memiliki nama resmi Museum S...   Budaya  Jakarta   \n",
            "20  Museum Wayang adalah sebuah museum yang berlok...   Budaya  Jakarta   \n",
            "59  Museum cinta Tekstil menempati gedung tua di J...   Budaya  Jakarta   \n",
            "19  Museum Taman Prasasti adalah sebuah museum cag...   Budaya  Jakarta   \n",
            "17  Museum Bank Indonesia adalah sebuah museum di ...   Budaya  Jakarta   \n",
            "73  Museum di Tengah Kebun adalah sebuah museum pe...   Budaya  Jakarta   \n",
            "62  Museum Kebangkitan Nasional (bahasa Inggris: M...   Budaya  Jakarta   \n",
            "\n",
            "    Price  Rating  \n",
            "40   2000      44  \n",
            "23   5000      46  \n",
            "72   5000      44  \n",
            "16   5000      44  \n",
            "20   5000      45  \n",
            "59   5000      45  \n",
            "19   2000      45  \n",
            "17   2000      47  \n",
            "73      0      46  \n",
            "62   2000      47  \n"
          ]
        }
      ]
    }
  ]
}
